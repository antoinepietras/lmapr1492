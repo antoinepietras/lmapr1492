{
 "cells": [
  {
   "cell_type": "raw",
   "metadata": {},
   "source": [
    "Ce notebook Python répond aux questions demandées à la tâche n° 5. Cette tâche avait pour but de déterminer les vecteurs de bases des réseaux direct et réciproque, type de maille, système cristallin, ainsi que groupe ponctuel de mon matériau.\n",
    "Premièrement je crée ma structure sur python. Ensuite j'utilises les éléments .lattice, .lattice.reciprocal_lattice pour obtenir les vecteurs de bases des réseaux direct et réciproque. \n",
    "Ensuite j'utilise un objet SpacegroupAnalyzer qui prend une structure en argument. Celui-ci me permer d'obtenir le type de maille ainsi que le système cristallin via .get_lattice_type() et .get_crystal_system(). Le groupe ponctuel a été obtenu via un query."
   ]
  },
  {
   "cell_type": "code",
   "execution_count": 84,
   "metadata": {
    "scrolled": true
   },
   "outputs": [
    {
     "name": "stdout",
     "output_type": "stream",
     "text": [
      "Vecteurs de base du réseau direct :\n",
      "\u001b[32m4.085648 0.003126 6.982953\n",
      "1.895131 3.619531 6.982953\n",
      "0.005161 0.003126 8.090372\n",
      "\u001b[0m\n",
      " \n",
      "Vecteurs de base du réseau réciproque :\n",
      "\u001b[32m1.539631 -0.804832 -0.000671\n",
      "-0.000182 1.737302 -0.000671\n",
      "-1.328727 -0.804832 0.777784\n",
      "\u001b[0m\n",
      " \n",
      "Type de maille : \u001b[32mrhombohedral\n",
      "\u001b[0m\n",
      " \n",
      "Système cristallin : \u001b[32mtrigonal\n",
      "\u001b[0m\n",
      " \n",
      "Groupe ponctuel : \u001b[32m[{'spacegroup.point_group': '-3m'}]\n",
      "\u001b[0m\n"
     ]
    }
   ],
   "source": [
    "from pymatgen.ext.matproj import MPRester\n",
    "from pymatgen.io.cif import CifWriter\n",
    "from pymatgen import Lattice\n",
    "from pymatgen.symmetry.analyzer import SpacegroupAnalyzer\n",
    "from pymatgen.symmetry.analyzer import PointGroupAnalyzer\n",
    "with MPRester(\"a6NTgQUJ1bGqoLFH\") as m:\n",
    "    structure = m.get_structure_by_material_id(\"mp-9363\")\n",
    "    w = CifWriter(structure)\n",
    "    w.write_file('mp9363.cif')\n",
    "    ################################################# Vecteurs de base du réseau direct ################################################\n",
    "    print('Vecteurs de base du réseau direct :')\n",
    "    print('\\033[32m' + str(structure.lattice))\n",
    "    print('\\033[0m')\n",
    "    print(\" \")\n",
    "    \n",
    "    ################################################# Vecteurs de base du réseau réciproque ################################################\n",
    "    print('Vecteurs de base du réseau réciproque :')\n",
    "    print('\\033[32m' + str(structure.lattice.reciprocal_lattice))\n",
    "    print('\\033[0m')\n",
    "    print(\" \")\n",
    "    spgrpanal = SpacegroupAnalyzer(structure)\n",
    "    \n",
    "    ################################################# Type de maille ###################################################################\n",
    "    print('Type de maille :','\\033[32m' + spgrpanal.get_lattice_type())\n",
    "    print('\\033[0m')\n",
    "    print(\" \")\n",
    "   \n",
    "    ################################################# Système cristallin ###############################################################\n",
    "    print('Système cristallin :','\\033[32m' + spgrpanal.get_crystal_system())\n",
    "    print('\\033[0m')\n",
    "    print(\" \")\n",
    "    \n",
    "    ################################################# Groupe ponctuel ##################################################################\n",
    "    print('Groupe ponctuel :','\\033[32m' + str(m.query(criteria=\"mp-9363\", properties=[\"spacegroup.point_group\"])))\n",
    "    print('\\033[0m')\n",
    "    "
   ]
  },
  {
   "cell_type": "raw",
   "metadata": {},
   "source": [
    "Ecrivez ce code sur un compilateur de notebook python pour afficher les réponses en vert.\n",
    "Les vecteurs de bases du réseau direct de mon matériau sont : \n",
    "    A = (4.0856479 ; 0.0031264 ; 6.98295309) , B = (1.89513124 ; 3.6195312 ; 6.98295309) , C = (0.00516149 ; 0.0031264 ; 8.09037242)\n",
    "-----------------------------------------------------------------------------------------------------------------------    \n",
    "Les vecteurs de bases du réseau réciproque de mon matériau sont :\n",
    "    A* = (1.539547 ; -0.804993 ; 0) , B* = (0 ; 1.737302 ; 0) , C* = (0.005161 ; 0.003126 ; 8.090372)\n",
    "-----------------------------------------------------------------------------------------------------------------------  \n",
    "Le type de maille de mon matériau est : rhomboédrique.\n",
    "-----------------------------------------------------------------------------------------------------------------------  \n",
    "Le système cristallin de mon matériau est : trigonal.\n",
    "    En effet, je vois que a=b=c et les angles sont tous égaux mais différents de 90 degrés. Il s'agit donc bien de la    définition d'un système trigonal (comme vu au cours, slide 24 du chapitre 1).\n",
    "-----------------------------------------------------------------------------------------------------------------------     \n",
    "Le groupe ponctuel de mon matériau est : -3m."
   ]
  },
  {
   "cell_type": "code",
   "execution_count": null,
   "metadata": {},
   "outputs": [],
   "source": []
  }
 ],
 "metadata": {
  "kernelspec": {
   "display_name": "Python 3",
   "language": "python",
   "name": "python3"
  },
  "language_info": {
   "codemirror_mode": {
    "name": "ipython",
    "version": 3
   },
   "file_extension": ".py",
   "mimetype": "text/x-python",
   "name": "python",
   "nbconvert_exporter": "python",
   "pygments_lexer": "ipython3",
   "version": "3.6.8"
  }
 },
 "nbformat": 4,
 "nbformat_minor": 2
}
